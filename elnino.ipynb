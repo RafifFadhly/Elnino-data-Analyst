{
  "nbformat": 4,
  "nbformat_minor": 0,
  "metadata": {
    "colab": {
      "provenance": []
    },
    "kernelspec": {
      "name": "python3",
      "display_name": "Python 3"
    },
    "language_info": {
      "name": "python"
    }
  },
  "cells": [
    {
      "cell_type": "code",
      "execution_count": 9,
      "metadata": {
        "colab": {
          "base_uri": "https://localhost:8080/",
          "height": 206
        },
        "id": "ly2c5edTd8wx",
        "outputId": "f8ba860c-d220-41ea-a5a6-326742c18dbc"
      },
      "outputs": [
        {
          "output_type": "execute_result",
          "data": {
            "text/plain": [
              "   Observation   Year   Month   Day    Date   Latitude   Longitude  \\\n",
              "0            1     80       3     7  800307      -0.02     -109.46   \n",
              "1            2     80       3     8  800308      -0.02     -109.46   \n",
              "2            3     80       3     9  800309      -0.02     -109.46   \n",
              "3            4     80       3    10  800310      -0.02     -109.46   \n",
              "4            5     80       3    11  800311      -0.02     -109.46   \n",
              "\n",
              "   Zonal Winds  Meridional Winds  Humidity  Air Temp  Sea Surface Temp  \n",
              "0         -6.8               0.7         .     26.14             26.24  \n",
              "1         -4.9               1.1         .     25.66             25.97  \n",
              "2         -4.5               2.2         .     25.69             25.28  \n",
              "3         -3.8               1.9         .     25.57             24.31  \n",
              "4         -4.2               1.5         .      25.3             23.19  "
            ],
            "text/html": [
              "\n",
              "  <div id=\"df-4c56f726-b765-4580-9453-ff7fe897804e\" class=\"colab-df-container\">\n",
              "    <div>\n",
              "<style scoped>\n",
              "    .dataframe tbody tr th:only-of-type {\n",
              "        vertical-align: middle;\n",
              "    }\n",
              "\n",
              "    .dataframe tbody tr th {\n",
              "        vertical-align: top;\n",
              "    }\n",
              "\n",
              "    .dataframe thead th {\n",
              "        text-align: right;\n",
              "    }\n",
              "</style>\n",
              "<table border=\"1\" class=\"dataframe\">\n",
              "  <thead>\n",
              "    <tr style=\"text-align: right;\">\n",
              "      <th></th>\n",
              "      <th>Observation</th>\n",
              "      <th>Year</th>\n",
              "      <th>Month</th>\n",
              "      <th>Day</th>\n",
              "      <th>Date</th>\n",
              "      <th>Latitude</th>\n",
              "      <th>Longitude</th>\n",
              "      <th>Zonal Winds</th>\n",
              "      <th>Meridional Winds</th>\n",
              "      <th>Humidity</th>\n",
              "      <th>Air Temp</th>\n",
              "      <th>Sea Surface Temp</th>\n",
              "    </tr>\n",
              "  </thead>\n",
              "  <tbody>\n",
              "    <tr>\n",
              "      <th>0</th>\n",
              "      <td>1</td>\n",
              "      <td>80</td>\n",
              "      <td>3</td>\n",
              "      <td>7</td>\n",
              "      <td>800307</td>\n",
              "      <td>-0.02</td>\n",
              "      <td>-109.46</td>\n",
              "      <td>-6.8</td>\n",
              "      <td>0.7</td>\n",
              "      <td>.</td>\n",
              "      <td>26.14</td>\n",
              "      <td>26.24</td>\n",
              "    </tr>\n",
              "    <tr>\n",
              "      <th>1</th>\n",
              "      <td>2</td>\n",
              "      <td>80</td>\n",
              "      <td>3</td>\n",
              "      <td>8</td>\n",
              "      <td>800308</td>\n",
              "      <td>-0.02</td>\n",
              "      <td>-109.46</td>\n",
              "      <td>-4.9</td>\n",
              "      <td>1.1</td>\n",
              "      <td>.</td>\n",
              "      <td>25.66</td>\n",
              "      <td>25.97</td>\n",
              "    </tr>\n",
              "    <tr>\n",
              "      <th>2</th>\n",
              "      <td>3</td>\n",
              "      <td>80</td>\n",
              "      <td>3</td>\n",
              "      <td>9</td>\n",
              "      <td>800309</td>\n",
              "      <td>-0.02</td>\n",
              "      <td>-109.46</td>\n",
              "      <td>-4.5</td>\n",
              "      <td>2.2</td>\n",
              "      <td>.</td>\n",
              "      <td>25.69</td>\n",
              "      <td>25.28</td>\n",
              "    </tr>\n",
              "    <tr>\n",
              "      <th>3</th>\n",
              "      <td>4</td>\n",
              "      <td>80</td>\n",
              "      <td>3</td>\n",
              "      <td>10</td>\n",
              "      <td>800310</td>\n",
              "      <td>-0.02</td>\n",
              "      <td>-109.46</td>\n",
              "      <td>-3.8</td>\n",
              "      <td>1.9</td>\n",
              "      <td>.</td>\n",
              "      <td>25.57</td>\n",
              "      <td>24.31</td>\n",
              "    </tr>\n",
              "    <tr>\n",
              "      <th>4</th>\n",
              "      <td>5</td>\n",
              "      <td>80</td>\n",
              "      <td>3</td>\n",
              "      <td>11</td>\n",
              "      <td>800311</td>\n",
              "      <td>-0.02</td>\n",
              "      <td>-109.46</td>\n",
              "      <td>-4.2</td>\n",
              "      <td>1.5</td>\n",
              "      <td>.</td>\n",
              "      <td>25.3</td>\n",
              "      <td>23.19</td>\n",
              "    </tr>\n",
              "  </tbody>\n",
              "</table>\n",
              "</div>\n",
              "    <div class=\"colab-df-buttons\">\n",
              "\n",
              "  <div class=\"colab-df-container\">\n",
              "    <button class=\"colab-df-convert\" onclick=\"convertToInteractive('df-4c56f726-b765-4580-9453-ff7fe897804e')\"\n",
              "            title=\"Convert this dataframe to an interactive table.\"\n",
              "            style=\"display:none;\">\n",
              "\n",
              "  <svg xmlns=\"http://www.w3.org/2000/svg\" height=\"24px\" viewBox=\"0 -960 960 960\">\n",
              "    <path d=\"M120-120v-720h720v720H120Zm60-500h600v-160H180v160Zm220 220h160v-160H400v160Zm0 220h160v-160H400v160ZM180-400h160v-160H180v160Zm440 0h160v-160H620v160ZM180-180h160v-160H180v160Zm440 0h160v-160H620v160Z\"/>\n",
              "  </svg>\n",
              "    </button>\n",
              "\n",
              "  <style>\n",
              "    .colab-df-container {\n",
              "      display:flex;\n",
              "      gap: 12px;\n",
              "    }\n",
              "\n",
              "    .colab-df-convert {\n",
              "      background-color: #E8F0FE;\n",
              "      border: none;\n",
              "      border-radius: 50%;\n",
              "      cursor: pointer;\n",
              "      display: none;\n",
              "      fill: #1967D2;\n",
              "      height: 32px;\n",
              "      padding: 0 0 0 0;\n",
              "      width: 32px;\n",
              "    }\n",
              "\n",
              "    .colab-df-convert:hover {\n",
              "      background-color: #E2EBFA;\n",
              "      box-shadow: 0px 1px 2px rgba(60, 64, 67, 0.3), 0px 1px 3px 1px rgba(60, 64, 67, 0.15);\n",
              "      fill: #174EA6;\n",
              "    }\n",
              "\n",
              "    .colab-df-buttons div {\n",
              "      margin-bottom: 4px;\n",
              "    }\n",
              "\n",
              "    [theme=dark] .colab-df-convert {\n",
              "      background-color: #3B4455;\n",
              "      fill: #D2E3FC;\n",
              "    }\n",
              "\n",
              "    [theme=dark] .colab-df-convert:hover {\n",
              "      background-color: #434B5C;\n",
              "      box-shadow: 0px 1px 3px 1px rgba(0, 0, 0, 0.15);\n",
              "      filter: drop-shadow(0px 1px 2px rgba(0, 0, 0, 0.3));\n",
              "      fill: #FFFFFF;\n",
              "    }\n",
              "  </style>\n",
              "\n",
              "    <script>\n",
              "      const buttonEl =\n",
              "        document.querySelector('#df-4c56f726-b765-4580-9453-ff7fe897804e button.colab-df-convert');\n",
              "      buttonEl.style.display =\n",
              "        google.colab.kernel.accessAllowed ? 'block' : 'none';\n",
              "\n",
              "      async function convertToInteractive(key) {\n",
              "        const element = document.querySelector('#df-4c56f726-b765-4580-9453-ff7fe897804e');\n",
              "        const dataTable =\n",
              "          await google.colab.kernel.invokeFunction('convertToInteractive',\n",
              "                                                    [key], {});\n",
              "        if (!dataTable) return;\n",
              "\n",
              "        const docLinkHtml = 'Like what you see? Visit the ' +\n",
              "          '<a target=\"_blank\" href=https://colab.research.google.com/notebooks/data_table.ipynb>data table notebook</a>'\n",
              "          + ' to learn more about interactive tables.';\n",
              "        element.innerHTML = '';\n",
              "        dataTable['output_type'] = 'display_data';\n",
              "        await google.colab.output.renderOutput(dataTable, element);\n",
              "        const docLink = document.createElement('div');\n",
              "        docLink.innerHTML = docLinkHtml;\n",
              "        element.appendChild(docLink);\n",
              "      }\n",
              "    </script>\n",
              "  </div>\n",
              "\n",
              "\n",
              "<div id=\"df-656fe4f1-9a43-40c6-afbb-a861987b8164\">\n",
              "  <button class=\"colab-df-quickchart\" onclick=\"quickchart('df-656fe4f1-9a43-40c6-afbb-a861987b8164')\"\n",
              "            title=\"Suggest charts\"\n",
              "            style=\"display:none;\">\n",
              "\n",
              "<svg xmlns=\"http://www.w3.org/2000/svg\" height=\"24px\"viewBox=\"0 0 24 24\"\n",
              "     width=\"24px\">\n",
              "    <g>\n",
              "        <path d=\"M19 3H5c-1.1 0-2 .9-2 2v14c0 1.1.9 2 2 2h14c1.1 0 2-.9 2-2V5c0-1.1-.9-2-2-2zM9 17H7v-7h2v7zm4 0h-2V7h2v10zm4 0h-2v-4h2v4z\"/>\n",
              "    </g>\n",
              "</svg>\n",
              "  </button>\n",
              "\n",
              "<style>\n",
              "  .colab-df-quickchart {\n",
              "      --bg-color: #E8F0FE;\n",
              "      --fill-color: #1967D2;\n",
              "      --hover-bg-color: #E2EBFA;\n",
              "      --hover-fill-color: #174EA6;\n",
              "      --disabled-fill-color: #AAA;\n",
              "      --disabled-bg-color: #DDD;\n",
              "  }\n",
              "\n",
              "  [theme=dark] .colab-df-quickchart {\n",
              "      --bg-color: #3B4455;\n",
              "      --fill-color: #D2E3FC;\n",
              "      --hover-bg-color: #434B5C;\n",
              "      --hover-fill-color: #FFFFFF;\n",
              "      --disabled-bg-color: #3B4455;\n",
              "      --disabled-fill-color: #666;\n",
              "  }\n",
              "\n",
              "  .colab-df-quickchart {\n",
              "    background-color: var(--bg-color);\n",
              "    border: none;\n",
              "    border-radius: 50%;\n",
              "    cursor: pointer;\n",
              "    display: none;\n",
              "    fill: var(--fill-color);\n",
              "    height: 32px;\n",
              "    padding: 0;\n",
              "    width: 32px;\n",
              "  }\n",
              "\n",
              "  .colab-df-quickchart:hover {\n",
              "    background-color: var(--hover-bg-color);\n",
              "    box-shadow: 0 1px 2px rgba(60, 64, 67, 0.3), 0 1px 3px 1px rgba(60, 64, 67, 0.15);\n",
              "    fill: var(--button-hover-fill-color);\n",
              "  }\n",
              "\n",
              "  .colab-df-quickchart-complete:disabled,\n",
              "  .colab-df-quickchart-complete:disabled:hover {\n",
              "    background-color: var(--disabled-bg-color);\n",
              "    fill: var(--disabled-fill-color);\n",
              "    box-shadow: none;\n",
              "  }\n",
              "\n",
              "  .colab-df-spinner {\n",
              "    border: 2px solid var(--fill-color);\n",
              "    border-color: transparent;\n",
              "    border-bottom-color: var(--fill-color);\n",
              "    animation:\n",
              "      spin 1s steps(1) infinite;\n",
              "  }\n",
              "\n",
              "  @keyframes spin {\n",
              "    0% {\n",
              "      border-color: transparent;\n",
              "      border-bottom-color: var(--fill-color);\n",
              "      border-left-color: var(--fill-color);\n",
              "    }\n",
              "    20% {\n",
              "      border-color: transparent;\n",
              "      border-left-color: var(--fill-color);\n",
              "      border-top-color: var(--fill-color);\n",
              "    }\n",
              "    30% {\n",
              "      border-color: transparent;\n",
              "      border-left-color: var(--fill-color);\n",
              "      border-top-color: var(--fill-color);\n",
              "      border-right-color: var(--fill-color);\n",
              "    }\n",
              "    40% {\n",
              "      border-color: transparent;\n",
              "      border-right-color: var(--fill-color);\n",
              "      border-top-color: var(--fill-color);\n",
              "    }\n",
              "    60% {\n",
              "      border-color: transparent;\n",
              "      border-right-color: var(--fill-color);\n",
              "    }\n",
              "    80% {\n",
              "      border-color: transparent;\n",
              "      border-right-color: var(--fill-color);\n",
              "      border-bottom-color: var(--fill-color);\n",
              "    }\n",
              "    90% {\n",
              "      border-color: transparent;\n",
              "      border-bottom-color: var(--fill-color);\n",
              "    }\n",
              "  }\n",
              "</style>\n",
              "\n",
              "  <script>\n",
              "    async function quickchart(key) {\n",
              "      const quickchartButtonEl =\n",
              "        document.querySelector('#' + key + ' button');\n",
              "      quickchartButtonEl.disabled = true;  // To prevent multiple clicks.\n",
              "      quickchartButtonEl.classList.add('colab-df-spinner');\n",
              "      try {\n",
              "        const charts = await google.colab.kernel.invokeFunction(\n",
              "            'suggestCharts', [key], {});\n",
              "      } catch (error) {\n",
              "        console.error('Error during call to suggestCharts:', error);\n",
              "      }\n",
              "      quickchartButtonEl.classList.remove('colab-df-spinner');\n",
              "      quickchartButtonEl.classList.add('colab-df-quickchart-complete');\n",
              "    }\n",
              "    (() => {\n",
              "      let quickchartButtonEl =\n",
              "        document.querySelector('#df-656fe4f1-9a43-40c6-afbb-a861987b8164 button');\n",
              "      quickchartButtonEl.style.display =\n",
              "        google.colab.kernel.accessAllowed ? 'block' : 'none';\n",
              "    })();\n",
              "  </script>\n",
              "</div>\n",
              "    </div>\n",
              "  </div>\n"
            ],
            "application/vnd.google.colaboratory.intrinsic+json": {
              "type": "dataframe",
              "variable_name": "data"
            }
          },
          "metadata": {},
          "execution_count": 9
        }
      ],
      "source": [
        "import pandas as pd\n",
        "\n",
        "data = pd.read_csv('/content/elnino.csv')\n",
        "data.head()"
      ]
    },
    {
      "cell_type": "markdown",
      "source": [
        "Cleaning Data"
      ],
      "metadata": {
        "id": "BztMoT-PfJGd"
      }
    },
    {
      "cell_type": "code",
      "source": [
        "data = data.dropna()\n",
        "data = data.drop_duplicates()\n",
        "data.head()\n",
        "data.shape"
      ],
      "metadata": {
        "colab": {
          "base_uri": "https://localhost:8080/"
        },
        "id": "dsoIJbCYel8g",
        "outputId": "baaf4979-853d-4930-a9c5-725a62ee930a"
      },
      "execution_count": 10,
      "outputs": [
        {
          "output_type": "execute_result",
          "data": {
            "text/plain": [
              "(178080, 12)"
            ]
          },
          "metadata": {},
          "execution_count": 10
        }
      ]
    },
    {
      "cell_type": "code",
      "source": [
        "data.info()"
      ],
      "metadata": {
        "colab": {
          "base_uri": "https://localhost:8080/"
        },
        "id": "vYJB6ppGfuTV",
        "outputId": "80857a1c-5c66-43c3-dac8-57b040a7e74c"
      },
      "execution_count": 11,
      "outputs": [
        {
          "output_type": "stream",
          "name": "stdout",
          "text": [
            "<class 'pandas.core.frame.DataFrame'>\n",
            "RangeIndex: 178080 entries, 0 to 178079\n",
            "Data columns (total 12 columns):\n",
            " #   Column             Non-Null Count   Dtype  \n",
            "---  ------             --------------   -----  \n",
            " 0   Observation        178080 non-null  int64  \n",
            " 1    Year              178080 non-null  int64  \n",
            " 2    Month             178080 non-null  int64  \n",
            " 3    Day               178080 non-null  int64  \n",
            " 4    Date              178080 non-null  int64  \n",
            " 5    Latitude          178080 non-null  float64\n",
            " 6    Longitude         178080 non-null  float64\n",
            " 7    Zonal Winds       178080 non-null  object \n",
            " 8    Meridional Winds  178080 non-null  object \n",
            " 9    Humidity          178080 non-null  object \n",
            " 10   Air Temp          178080 non-null  object \n",
            " 11   Sea Surface Temp  178080 non-null  object \n",
            "dtypes: float64(2), int64(5), object(5)\n",
            "memory usage: 16.3+ MB\n"
          ]
        }
      ]
    },
    {
      "cell_type": "code",
      "source": [
        "print(data.columns)"
      ],
      "metadata": {
        "colab": {
          "base_uri": "https://localhost:8080/"
        },
        "id": "5fjiNXrwgOeu",
        "outputId": "7a252267-cc69-4a3d-a5f9-4e6f406a8f96"
      },
      "execution_count": 12,
      "outputs": [
        {
          "output_type": "stream",
          "name": "stdout",
          "text": [
            "Index(['Observation', ' Year', ' Month', ' Day', ' Date', ' Latitude',\n",
            "       ' Longitude', ' Zonal Winds', ' Meridional Winds', ' Humidity',\n",
            "       ' Air Temp', ' Sea Surface Temp'],\n",
            "      dtype='object')\n"
          ]
        }
      ]
    },
    {
      "cell_type": "markdown",
      "source": [
        "Rata Rata Temperatur udara"
      ],
      "metadata": {
        "id": "X1YN67W3fFJF"
      }
    },
    {
      "cell_type": "code",
      "source": [
        "data[' Air Temp'] = pd.to_numeric(data[' Air Temp'], errors='coerce')\n",
        "rata_rata = data[' Air Temp'].mean()\n",
        "print(' Air Temp (mean):', rata_rata)"
      ],
      "metadata": {
        "colab": {
          "base_uri": "https://localhost:8080/"
        },
        "id": "nhrzWZWCfqS_",
        "outputId": "2a250dd9-94f6-4a76-c1f4-52068d2af5cb"
      },
      "execution_count": 18,
      "outputs": [
        {
          "output_type": "stream",
          "name": "stdout",
          "text": [
            " Air Temp (mean): 26.887566862483816\n"
          ]
        }
      ]
    },
    {
      "cell_type": "markdown",
      "source": [
        "median Temperatur udara"
      ],
      "metadata": {
        "id": "y44QB862gRTf"
      }
    },
    {
      "cell_type": "code",
      "source": [
        "rata_rata = data[' Air Temp'].median()\n",
        "print(' Air Temp (median):',rata_rata)"
      ],
      "metadata": {
        "colab": {
          "base_uri": "https://localhost:8080/"
        },
        "id": "a5m_rMWtgjc5",
        "outputId": "ead8819e-44b4-418b-cda3-b4baf08fd0f4"
      },
      "execution_count": 17,
      "outputs": [
        {
          "output_type": "stream",
          "name": "stdout",
          "text": [
            " Air Temp (median): 27.34\n"
          ]
        }
      ]
    },
    {
      "cell_type": "markdown",
      "source": [
        "Modus Temperatur udara"
      ],
      "metadata": {
        "id": "hdkor44qe9oQ"
      }
    },
    {
      "cell_type": "code",
      "source": [
        "modus = data[' Air Temp'].mode()\n",
        "print('Air Temp (modus):', modus)"
      ],
      "metadata": {
        "colab": {
          "base_uri": "https://localhost:8080/"
        },
        "id": "LR66JRPFgpgQ",
        "outputId": "ce71a63e-b3a7-4327-a35e-d09a8c86f39e"
      },
      "execution_count": null,
      "outputs": [
        {
          "output_type": "stream",
          "name": "stdout",
          "text": [
            "Air Temp (modus): 0    27.71\n",
            "Name:  Air Temp, dtype: float64\n"
          ]
        }
      ]
    },
    {
      "cell_type": "markdown",
      "source": [
        "Simpangan Rata Rata Temperatur udara"
      ],
      "metadata": {
        "id": "tcb5zXZQe31G"
      }
    },
    {
      "cell_type": "code",
      "source": [
        "deviasi_absolut = abs(data[' Air Temp'] - rata_rata)\n",
        "\n",
        "simpangan_rata_rata = deviasi_absolut.mean()\n",
        "\n",
        "print('Simpangan Rata-rata Air Temp:', simpangan_rata_rata)"
      ],
      "metadata": {
        "colab": {
          "base_uri": "https://localhost:8080/"
        },
        "id": "cQtBnpgXhA9K",
        "outputId": "f0070547-4bd8-4f02-889f-39d5d2bc608a"
      },
      "execution_count": null,
      "outputs": [
        {
          "output_type": "stream",
          "name": "stdout",
          "text": [
            "Simpangan Rata-rata Air Temp: 1.3385101005361513\n"
          ]
        }
      ]
    },
    {
      "cell_type": "markdown",
      "source": [
        "Diagram Temperatur udara"
      ],
      "metadata": {
        "id": "7q_BvDljgbbB"
      }
    },
    {
      "cell_type": "code",
      "source": [
        "import matplotlib.pyplot as plt\n",
        "import seaborn as sns\n",
        "\n",
        "plt.figure(figsize=(8, 5))\n",
        "sns.barplot(x=' Day', y=' Air Temp', data=data, palette='viridis')\n",
        "plt.xlabel(\"Day\")\n",
        "plt.ylabel(\"Air Temp\")\n",
        "plt.title(\"Rata-rata Suhu di Berbagai Kota\")\n",
        "plt.show()"
      ],
      "metadata": {
        "colab": {
          "base_uri": "https://localhost:8080/",
          "height": 574
        },
        "id": "QQ71muOGek0t",
        "outputId": "a45b2ae7-c2fd-4405-e6d0-fe76a542a5aa"
      },
      "execution_count": 21,
      "outputs": [
        {
          "output_type": "stream",
          "name": "stderr",
          "text": [
            "<ipython-input-21-5b4d67dbc3cd>:5: FutureWarning: \n",
            "\n",
            "Passing `palette` without assigning `hue` is deprecated and will be removed in v0.14.0. Assign the `x` variable to `hue` and set `legend=False` for the same effect.\n",
            "\n",
            "  sns.barplot(x=' Day', y=' Air Temp', data=data, palette='viridis')\n"
          ]
        },
        {
          "output_type": "display_data",
          "data": {
            "text/plain": [
              "<Figure size 800x500 with 1 Axes>"
            ],
            "image/png": "[encoded data removed]"
          },
          "metadata": {}
        }
      ]
    }
  ]
}